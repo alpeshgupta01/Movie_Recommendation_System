{
 "cells": [
  {
   "cell_type": "code",
   "execution_count": null,
   "id": "a71a164d-8204-4fc7-81ce-d7e8d21f0183",
   "metadata": {},
   "outputs": [],
   "source": [
    "import pandas as pd\n",
    "import numpy as np"
   ]
  },
  {
   "cell_type": "code",
   "execution_count": null,
   "id": "8ffd071c-e4e0-49c7-a08f-24a1b8c07d56",
   "metadata": {},
   "outputs": [],
   "source": [
    "movies = pd.read_csv(\"movies.csv\")\n",
    "ratings = pd.read_csv(\"ratings.csv\")"
   ]
  },
  {
   "cell_type": "code",
   "execution_count": null,
   "id": "a196aedf-1bd7-40a7-b582-adaa127a64b0",
   "metadata": {},
   "outputs": [],
   "source": [
    "movies.head()"
   ]
  },
  {
   "cell_type": "code",
   "execution_count": null,
   "id": "1718d788-44f2-423f-b29c-cdfbac02fc4a",
   "metadata": {
    "scrolled": true
   },
   "outputs": [],
   "source": [
    "ratings.head()"
   ]
  },
  {
   "cell_type": "code",
   "execution_count": null,
   "id": "f4b664a3-e73e-423a-ab66-bb76f8426c5f",
   "metadata": {},
   "outputs": [],
   "source": [
    "#     1   2   3  4  5 user_id  \n",
    "\n",
    "# 1   4\n",
    "# 2   NAN \n",
    "# 3   4\n",
    "# 4   NAN\n",
    "# movie_id"
   ]
  },
  {
   "cell_type": "code",
   "execution_count": null,
   "id": "aa437e97-13a8-4c6a-a1ea-adeed0a7affe",
   "metadata": {},
   "outputs": [],
   "source": [
    "final_dataset = ratings.pivot(index = \"movieId\", columns = \"userId\", values = \"rating\")"
   ]
  },
  {
   "cell_type": "code",
   "execution_count": null,
   "id": "05bd728a-c247-4c7a-8032-5a610cd8acce",
   "metadata": {},
   "outputs": [],
   "source": [
    "final_dataset.head()"
   ]
  },
  {
   "cell_type": "code",
   "execution_count": null,
   "id": "9c6db9f3-5e65-4d2d-bd0b-19f056f1dd8d",
   "metadata": {},
   "outputs": [],
   "source": [
    "final_dataset.fillna(0, inplace=True)\n",
    "final_dataset.head()"
   ]
  },
  {
   "cell_type": "code",
   "execution_count": null,
   "id": "29d2554e-4b47-4624-bc00-13954f35f976",
   "metadata": {},
   "outputs": [],
   "source": [
    "# Removing noise from dataset"
   ]
  },
  {
   "cell_type": "code",
   "execution_count": null,
   "id": "3d79f2a9-08b6-46c0-9c1d-a81f0657b785",
   "metadata": {},
   "outputs": [],
   "source": [
    "no_user_voted = ratings.groupby(\"movieId\")['rating'].agg('count')\n",
    "no_movie_voted = ratings.groupby(\"userId\")['rating'].agg('count')"
   ]
  },
  {
   "cell_type": "code",
   "execution_count": null,
   "id": "e3919e6f-2faa-4a15-8480-de2e757d18b2",
   "metadata": {},
   "outputs": [],
   "source": [
    "no_user_voted"
   ]
  },
  {
   "cell_type": "code",
   "execution_count": null,
   "id": "32208d4a-fc4b-4200-9cf8-c28742a15551",
   "metadata": {},
   "outputs": [],
   "source": [
    "no_movie_voted"
   ]
  },
  {
   "cell_type": "code",
   "execution_count": null,
   "id": "90e58cf1-c38d-40cf-bf25-81518f760779",
   "metadata": {},
   "outputs": [],
   "source": [
    "import matplotlib.pyplot as plt\n",
    "plt.style.use(\"ggplot\")\n",
    "fig,axes = plt.subplots(1,1, figsize=(16,4))\n",
    "plt.scatter(no_user_voted.index, no_user_voted, color=\"hotpink\")\n",
    "plt.axhline(y=10, color=\"green\")\n",
    "plt.xlabel(\"MovieID\")\n",
    "plt.ylabel(\"No of users voted\")\n",
    "plt.show()"
   ]
  },
  {
   "cell_type": "code",
   "execution_count": null,
   "id": "1e580643-5123-4c2f-9333-b108f44442af",
   "metadata": {},
   "outputs": [],
   "source": [
    "final_dataset = final_dataset.loc[no_user_voted[no_user_voted > 10].index, :]"
   ]
  },
  {
   "cell_type": "code",
   "execution_count": null,
   "id": "b3445043-c2b7-4a3a-b65b-421a9e619110",
   "metadata": {},
   "outputs": [],
   "source": [
    "final_dataset"
   ]
  },
  {
   "cell_type": "code",
   "execution_count": null,
   "id": "458234bc-ae28-40ec-8952-884e09d223c4",
   "metadata": {},
   "outputs": [],
   "source": [
    "import matplotlib.pyplot as plt\n",
    "plt.style.use(\"ggplot\")\n",
    "fig,axes = plt.subplots(1,1, figsize=(16,4))\n",
    "plt.scatter(no_movie_voted.index, no_movie_voted, color=\"hotpink\")\n",
    "plt.axhline(y=10, color=\"green\")\n",
    "plt.xlabel(\"MovieID\")\n",
    "plt.ylabel(\"No of users voted\")\n",
    "plt.show()"
   ]
  },
  {
   "cell_type": "code",
   "execution_count": null,
   "id": "f734e16f-91e9-4f39-89eb-d8158b74d886",
   "metadata": {},
   "outputs": [],
   "source": [
    "final_dataset = final_dataset.loc[:, no_movie_voted[no_movie_voted > 50].index]"
   ]
  },
  {
   "cell_type": "code",
   "execution_count": null,
   "id": "3e4c0f06-d50c-4bce-a7f5-e16ed9bb98b8",
   "metadata": {},
   "outputs": [],
   "source": [
    "final_dataset"
   ]
  },
  {
   "cell_type": "code",
   "execution_count": null,
   "id": "a7e7852a-dfe8-47a3-a368-e294ca71e4b1",
   "metadata": {},
   "outputs": [],
   "source": [
    "final_dataset.shape"
   ]
  },
  {
   "cell_type": "code",
   "execution_count": null,
   "id": "3ead5943-174c-4dba-a7e6-27c53baa94d2",
   "metadata": {},
   "outputs": [],
   "source": [
    "sample = np.array([[1,0,0,0,0], [0,2,0,0,1], [0,0,4,0,0]])\n",
    "sparsity = 1 - np.count_nonzero(sample)/sample.size"
   ]
  },
  {
   "cell_type": "code",
   "execution_count": null,
   "id": "cbc21f77-2243-4b8e-854c-a7ecaa5d6404",
   "metadata": {},
   "outputs": [],
   "source": [
    "print(sparsity)"
   ]
  },
  {
   "cell_type": "code",
   "execution_count": null,
   "id": "cdcd6792-c98c-404a-bdc3-548f620e0e94",
   "metadata": {},
   "outputs": [],
   "source": [
    "from scipy.sparse import csr_matrix\n",
    "csr_sample = csr_matrix(sample)\n",
    "print(csr_sample)"
   ]
  },
  {
   "cell_type": "code",
   "execution_count": null,
   "id": "6690562c-296e-4e21-8864-b343e5c355d6",
   "metadata": {},
   "outputs": [],
   "source": [
    "csr_matrix"
   ]
  },
  {
   "cell_type": "code",
   "execution_count": null,
   "id": "b0f84237-3f1e-4a2d-a200-9de133a116ab",
   "metadata": {},
   "outputs": [],
   "source": [
    "csr_data = csr_matrix(final_dataset.values)\n",
    "final_dataset.reset_index(inplace=True)"
   ]
  },
  {
   "cell_type": "code",
   "execution_count": null,
   "id": "565ac09a-1528-4ffa-a0c5-5273778ee92c",
   "metadata": {},
   "outputs": [],
   "source": [
    "print(csr_data)"
   ]
  },
  {
   "cell_type": "code",
   "execution_count": null,
   "id": "3b0487cc-00f2-4aad-96a8-d190c8144d52",
   "metadata": {},
   "outputs": [],
   "source": [
    "from sklearn.neighbors import NearestNeighbors\n",
    "knn = NearestNeighbors(metric=\"cosine\", algorithm = \"brute\", n_neighbors=20, n_jobs=-1)\n",
    "knn.fit(csr_data)"
   ]
  },
  {
   "cell_type": "code",
   "execution_count": null,
   "id": "03d76068-29c1-484b-88d7-69876e63dff9",
   "metadata": {},
   "outputs": [],
   "source": [
    "def get_recommendation(movie_name):\n",
    "    movie_list = movies[movies['title'].str.contains(movie_name)]\n",
    "    print(movie_list)\n",
    "    if len(movie_list):\n",
    "        print(\"Movie Found\")\n",
    "        movie_idx = movie_list.iloc[0]['movieId']\n",
    "        movie_idx = final_dataset[final_dataset['movieId'] == movie_idx].index[0]\n",
    "        print(\"Movie index:\",movie_idx)\n",
    "        distance, indices = knn.kneighbors(csr_data[movie_idx], n_neighbors=10+1)\n",
    "        print(\"Distance : \",distance)\n",
    "        print(\"Indices: \",indices)\n",
    "        rec_movies_indices = sorted(list(zip(indices.squeeze().tolist(), distance.squeeze().tolist())), key=lambda x: x[1])[:0:-1]\n",
    "        print(rec_movies_indices)\n",
    "        recommended_movies = []\n",
    "        for val in rec_movies_indices:\n",
    "            movie_idx = final_dataset.iloc[val[0]]['movieId']\n",
    "            idx = movies[movies['movieId'] == movie_idx].index\n",
    "            recommended_movies.append({'Title': movies.iloc[idx]['title'].values[0], 'Distance': val[1]})\n",
    "        df = pd.DataFrame(recommended_movies, index=range(1, 11))\n",
    "        print(df)\n",
    "        return df\n",
    "    else:\n",
    "        print(\"Movie not Found\")"
   ]
  },
  {
   "cell_type": "code",
   "execution_count": null,
   "id": "6dd61676-ef5d-422e-b61f-b9b52bff7986",
   "metadata": {},
   "outputs": [],
   "source": [
    "get_recommendation(\"Jumanji\")"
   ]
  },
  {
   "cell_type": "code",
   "execution_count": 31,
   "id": "d267c6ca-c227-423e-b475-797fb3c2eb78",
   "metadata": {},
   "outputs": [
    {
     "ename": "ModuleNotFoundError",
     "evalue": "No module named 'gradio'",
     "output_type": "error",
     "traceback": [
      "\u001b[1;31m---------------------------------------------------------------------------\u001b[0m",
      "\u001b[1;31mModuleNotFoundError\u001b[0m                       Traceback (most recent call last)",
      "Cell \u001b[1;32mIn[31], line 1\u001b[0m\n\u001b[1;32m----> 1\u001b[0m \u001b[38;5;28;01mimport\u001b[39;00m\u001b[38;5;250m \u001b[39m\u001b[38;5;21;01mgradio\u001b[39;00m\u001b[38;5;250m \u001b[39m\u001b[38;5;28;01mas\u001b[39;00m\u001b[38;5;250m \u001b[39m\u001b[38;5;21;01mgr\u001b[39;00m\n\u001b[0;32m      2\u001b[0m \u001b[38;5;28;01mdef\u001b[39;00m\u001b[38;5;250m \u001b[39m\u001b[38;5;21mrecommend_movies\u001b[39m(movie_name):\n\u001b[0;32m      3\u001b[0m     df \u001b[38;5;241m=\u001b[39m get_recommendation(movie_name)\n",
      "\u001b[1;31mModuleNotFoundError\u001b[0m: No module named 'gradio'"
     ]
    }
   ],
   "source": [
    "import gradio as gr\n",
    "def recommend_movies(movie_name):\n",
    "    df = get_recommendation(movie_name)\n",
    "    if isInstance(df, pd.DataFrame):\n",
    "        return df.to_string(index=False)\n",
    "    else:\n",
    "        return df\n",
    "app = gr.Interface(\n",
    "    fn = recommend_movies,\n",
    "    inputs = \"text\",\n",
    "    outputs = \"text\",\n",
    "    description = \"Enter a movie name to get a list of recommended movies\"\n",
    ")\n",
    "app.launch()"
   ]
  },
  {
   "cell_type": "code",
   "execution_count": null,
   "id": "91516da3-8cc3-4794-bcbe-b582b078fabe",
   "metadata": {},
   "outputs": [],
   "source": []
  },
  {
   "cell_type": "code",
   "execution_count": null,
   "id": "f4120d8a-d311-4108-aa8d-8186655dbe15",
   "metadata": {},
   "outputs": [],
   "source": []
  },
  {
   "cell_type": "code",
   "execution_count": null,
   "id": "23fa6f12-1dab-43c3-8e6b-6932faa9e1b5",
   "metadata": {},
   "outputs": [],
   "source": []
  },
  {
   "cell_type": "code",
   "execution_count": null,
   "id": "bedd3eca-195b-4406-8922-e542dac28c3e",
   "metadata": {},
   "outputs": [],
   "source": []
  },
  {
   "cell_type": "code",
   "execution_count": null,
   "id": "49e12d2c-92f8-400a-a866-a8ef023cc6c4",
   "metadata": {},
   "outputs": [],
   "source": []
  },
  {
   "cell_type": "code",
   "execution_count": null,
   "id": "e8ad13c8-b052-4d51-b321-831ef991e8b8",
   "metadata": {},
   "outputs": [],
   "source": []
  },
  {
   "cell_type": "code",
   "execution_count": null,
   "id": "0ef728be-c108-4982-bbf8-642872095d90",
   "metadata": {},
   "outputs": [],
   "source": []
  },
  {
   "cell_type": "code",
   "execution_count": null,
   "id": "2417c1cb-a35b-42ea-abdc-efb23799ccb5",
   "metadata": {},
   "outputs": [],
   "source": []
  },
  {
   "cell_type": "code",
   "execution_count": null,
   "id": "b4988ffe-2cfb-434e-a608-1e4514e67683",
   "metadata": {},
   "outputs": [],
   "source": []
  },
  {
   "cell_type": "code",
   "execution_count": null,
   "id": "15e58acb-59e2-4fc5-8c38-30a09c4565e5",
   "metadata": {},
   "outputs": [],
   "source": []
  },
  {
   "cell_type": "code",
   "execution_count": null,
   "id": "7645bee2-3fdf-4e7b-b880-39ffd5f996b3",
   "metadata": {},
   "outputs": [],
   "source": []
  },
  {
   "cell_type": "code",
   "execution_count": null,
   "id": "1893a069-dc77-46fc-8371-b56427da1201",
   "metadata": {},
   "outputs": [],
   "source": []
  },
  {
   "cell_type": "code",
   "execution_count": null,
   "id": "156a388f-f590-44bc-9571-f0904812c5d8",
   "metadata": {},
   "outputs": [],
   "source": []
  },
  {
   "cell_type": "code",
   "execution_count": null,
   "id": "1fb8541a-b821-469b-97f0-2e64c1068611",
   "metadata": {},
   "outputs": [],
   "source": []
  },
  {
   "cell_type": "code",
   "execution_count": null,
   "id": "af70ba23-3a78-42a8-9fed-37fe149cdb32",
   "metadata": {},
   "outputs": [],
   "source": []
  },
  {
   "cell_type": "code",
   "execution_count": null,
   "id": "2fa287d6-2b25-4561-bb14-6f039210efa7",
   "metadata": {},
   "outputs": [],
   "source": []
  },
  {
   "cell_type": "code",
   "execution_count": null,
   "id": "993e80b9-5f1d-47d9-a1f3-5d3313eb4052",
   "metadata": {},
   "outputs": [],
   "source": []
  },
  {
   "cell_type": "code",
   "execution_count": null,
   "id": "ddc7e4fe-f439-4c7b-9e10-793d87d964d4",
   "metadata": {},
   "outputs": [],
   "source": []
  },
  {
   "cell_type": "code",
   "execution_count": null,
   "id": "e0053ed2-f6c0-4259-904f-e1a18cef7472",
   "metadata": {},
   "outputs": [],
   "source": []
  }
 ],
 "metadata": {
  "kernelspec": {
   "display_name": "Python [conda env:base] *",
   "language": "python",
   "name": "conda-base-py"
  },
  "language_info": {
   "codemirror_mode": {
    "name": "ipython",
    "version": 3
   },
   "file_extension": ".py",
   "mimetype": "text/x-python",
   "name": "python",
   "nbconvert_exporter": "python",
   "pygments_lexer": "ipython3",
   "version": "3.13.5"
  }
 },
 "nbformat": 4,
 "nbformat_minor": 5
}
